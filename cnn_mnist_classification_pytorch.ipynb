{
  "nbformat": 4,
  "nbformat_minor": 0,
  "metadata": {
    "colab": {
      "provenance": [],
      "authorship_tag": "ABX9TyOraPx+FjhKvIVHKlz29+0m",
      "include_colab_link": true
    },
    "kernelspec": {
      "name": "python3",
      "display_name": "Python 3"
    },
    "language_info": {
      "name": "python"
    }
  },
  "cells": [
    {
      "cell_type": "markdown",
      "metadata": {
        "id": "view-in-github",
        "colab_type": "text"
      },
      "source": [
        "<a href=\"https://colab.research.google.com/github/Siarzis/ai-tutor/blob/main/cnn_mnist_classification_pytorch.ipynb\" target=\"_parent\"><img src=\"https://colab.research.google.com/assets/colab-badge.svg\" alt=\"Open In Colab\"/></a>"
      ]
    },
    {
      "cell_type": "markdown",
      "source": [
        "Import Libraries"
      ],
      "metadata": {
        "id": "awr9SOcuB1_O"
      }
    },
    {
      "cell_type": "code",
      "execution_count": 7,
      "metadata": {
        "id": "aR-MYNPEBr92"
      },
      "outputs": [],
      "source": [
        "import torch\n",
        "import torchvision\n",
        "import torchvision.transforms as transforms"
      ]
    },
    {
      "cell_type": "markdown",
      "source": [
        "Load MNIST dataset"
      ],
      "metadata": {
        "id": "2twnnnUMDTkV"
      }
    },
    {
      "cell_type": "code",
      "source": [
        "# MNIST is a large database of handwritten digits\n",
        "# commonly used for prototyping image processing systems\n",
        "\n",
        "# MNIST includes 60,000 28x28 grayscale images of the 10 digits and a test set of 10,000 images\n",
        "\n",
        "# define transforms to normalize the MNIST image data\n",
        "transform = transforms.Compose([transforms.ToTensor(),  # Convert images to tensors, normalize to pixel values to the range [0, 1]\n",
        "                                transforms.Normalize((0.5,), (0.5,))  # Normalize the pixel values to the range [-1, 1]\n",
        "                                ])\n",
        "\n",
        "# Download and load the MNIST training set\n",
        "\n",
        "# define the batch size\n",
        "bs = 64\n",
        "\n",
        "# train_dataset is an object of the dataset class\n",
        "train_dataset = torchvision.datasets.MNIST(root='./', train=True, download=True, transform=transform)\n",
        "# train_loader is a DataLoader\n",
        "train_loader = torch.utils.data.DataLoader(train_dataset, batch_size=bs, shuffle=True)\n",
        "\n",
        "# Download and load the MNIST test set\n",
        "test_dataset = torchvision.datasets.MNIST(root='./', train=False, download=True, transform=transform)\n",
        "test_loader = torch.utils.data.DataLoader(test_dataset, batch_size=bs, shuffle=False)"
      ],
      "metadata": {
        "id": "pIJcyf-_DS9e"
      },
      "execution_count": 54,
      "outputs": []
    },
    {
      "cell_type": "markdown",
      "source": [
        "Retrieve MNIST dataset properties"
      ],
      "metadata": {
        "id": "U6vBd88PFT73"
      }
    },
    {
      "cell_type": "code",
      "source": [
        "print('Total number of MNIST images:', len(train_dataset))\n",
        "\n",
        "# dataset class is subscriptable => train_dataset[0] is the first image of MNIST\n",
        "# train_dataset[0] returns a tuble of the image (torch.Tensor) and its label (int)\n",
        "image, label = train_dataset[0]\n",
        "print('Image dimensions:', image.size(), 'Image label:', label)\n",
        "print('Image channels:', image.size()[0])\n",
        "print('Image size (height x width):', image.size()[1:])\n",
        "\n",
        "print('Total number of batches:', len(train_dataset), '/', bs, '=', len(train_loader))"
      ],
      "metadata": {
        "colab": {
          "base_uri": "https://localhost:8080/"
        },
        "id": "Nzb4AvX7FVKO",
        "outputId": "8b891768-ba61-4af1-ae56-a70278be15e6"
      },
      "execution_count": 53,
      "outputs": [
        {
          "output_type": "stream",
          "name": "stdout",
          "text": [
            "Total number of MNIST images: 60000\n",
            "Image dimensions: torch.Size([1, 28, 28]) Image label: 5\n",
            "Image channels: 1\n",
            "Image size (height x width): torch.Size([28, 28])\n",
            "Total number of batches: 60000 / 64 = 938\n"
          ]
        }
      ]
    }
  ]
}