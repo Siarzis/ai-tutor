{
  "nbformat": 4,
  "nbformat_minor": 0,
  "metadata": {
    "colab": {
      "provenance": [],
      "gpuType": "T4",
      "authorship_tag": "ABX9TyMXMGAgAYYKSfJiQrxdkhSD",
      "include_colab_link": true
    },
    "kernelspec": {
      "name": "python3",
      "display_name": "Python 3"
    },
    "language_info": {
      "name": "python"
    },
    "accelerator": "GPU"
  },
  "cells": [
    {
      "cell_type": "markdown",
      "metadata": {
        "id": "view-in-github",
        "colab_type": "text"
      },
      "source": [
        "<a href=\"https://colab.research.google.com/github/Siarzis/ai-tutor/blob/main/cnn_mnist_classification_pytorch.ipynb\" target=\"_parent\"><img src=\"https://colab.research.google.com/assets/colab-badge.svg\" alt=\"Open In Colab\"/></a>"
      ]
    },
    {
      "cell_type": "markdown",
      "source": [
        "Import Libraries"
      ],
      "metadata": {
        "id": "awr9SOcuB1_O"
      }
    },
    {
      "cell_type": "code",
      "execution_count": 1,
      "metadata": {
        "id": "aR-MYNPEBr92"
      },
      "outputs": [],
      "source": [
        "import torch\n",
        "import torch.nn as nn\n",
        "import torch.optim as optim\n",
        "\n",
        "import torchvision\n",
        "import torchvision.transforms as transforms\n",
        "\n",
        "import matplotlib.pyplot as plt"
      ]
    },
    {
      "cell_type": "markdown",
      "source": [
        "Load MNIST dataset"
      ],
      "metadata": {
        "id": "2twnnnUMDTkV"
      }
    },
    {
      "cell_type": "code",
      "source": [
        "# MNIST is a large database of handwritten digits\n",
        "# commonly used for prototyping image processing systems\n",
        "\n",
        "# MNIST includes 60,000 28x28 grayscale images of the 10 digits and a test set of 10,000 images\n",
        "\n",
        "# define transforms to normalize the MNIST image data\n",
        "transform = transforms.Compose([transforms.ToTensor(),  # Convert images to tensors, normalize to pixel values to the range [0, 1]\n",
        "                                transforms.Normalize((0.5,), (0.5,))  # Normalize the pixel values to the range [-1, 1]\n",
        "                                ])\n",
        "\n",
        "# define the batch size\n",
        "bs = 64\n",
        "\n",
        "# download and load the MNIST training dataset | \"train_dataset\" is an object of the dataset class\n",
        "train_dataset = torchvision.datasets.MNIST(root='./', train=True, download=True, transform=transform)\n",
        "# \"train_loader\" is an object of the DataLoader class\n",
        "train_loader = torch.utils.data.DataLoader(train_dataset, batch_size=bs, shuffle=True, pin_memory=True)\n",
        "\n",
        "# download and load the MNIST test dataset\n",
        "test_dataset = torchvision.datasets.MNIST(root='./', train=False, download=True, transform=transform)\n",
        "test_loader = torch.utils.data.DataLoader(test_dataset, batch_size=64, shuffle=True, pin_memory=True)"
      ],
      "metadata": {
        "id": "pIJcyf-_DS9e"
      },
      "execution_count": 19,
      "outputs": []
    },
    {
      "cell_type": "markdown",
      "source": [
        "Get MNIST image properties"
      ],
      "metadata": {
        "id": "U6vBd88PFT73"
      }
    },
    {
      "cell_type": "code",
      "source": [
        "print('Total number of MNIST images:', len(train_dataset))\n",
        "\n",
        "# dataset class is subscriptable => train_dataset[0] is the first image of MNIST\n",
        "# train_dataset[0] returns a tuble of the image (torch.Tensor) and its label (int)\n",
        "image, label = train_dataset[0]\n",
        "print('Image dimensions:', image.size(), 'Image label:', label)\n",
        "print('Image channels:', image.size()[0])\n",
        "print('Image size (height x width):', image.size()[1:])\n",
        "\n",
        "print('Total number of batches:', len(train_dataset), '/', bs, '=', len(train_loader))"
      ],
      "metadata": {
        "colab": {
          "base_uri": "https://localhost:8080/"
        },
        "id": "Nzb4AvX7FVKO",
        "outputId": "e552d7c4-de75-4812-ca13-dee7ffa27c46"
      },
      "execution_count": 3,
      "outputs": [
        {
          "output_type": "stream",
          "name": "stdout",
          "text": [
            "Total number of MNIST images: 60000\n",
            "Image dimensions: torch.Size([1, 28, 28]) Image label: 5\n",
            "Image channels: 1\n",
            "Image size (height x width): torch.Size([28, 28])\n",
            "Total number of batches: 60000 / 64 = 938\n"
          ]
        }
      ]
    },
    {
      "cell_type": "markdown",
      "source": [
        "Visualize a sample image from MNIST"
      ],
      "metadata": {
        "id": "KkOybUNsQfmI"
      }
    },
    {
      "cell_type": "code",
      "source": [
        "# convert MNIST sample image from PyTorch tensor to a NumPy array\n",
        "image_np = image.numpy()\n",
        "\n",
        "# visualize MNIST sample image using Matplotlib\n",
        "\n",
        "# .squeeze() discards singleton dimensions - used to remove the channel dimension\n",
        "plt.imshow(image_np.squeeze(), cmap='gray')\n",
        "plt.show()"
      ],
      "metadata": {
        "colab": {
          "base_uri": "https://localhost:8080/",
          "height": 430
        },
        "id": "4a2zg3qSQpv1",
        "outputId": "e2289efd-a596-447c-ed76-82db65e75be0"
      },
      "execution_count": 4,
      "outputs": [
        {
          "output_type": "display_data",
          "data": {
            "text/plain": [
              "<Figure size 640x480 with 1 Axes>"
            ],
            "image/png": "[encoded data removed]"
          },
          "metadata": {}
        }
      ]
    },
    {
      "cell_type": "markdown",
      "source": [
        "Further image visualization"
      ],
      "metadata": {
        "id": "2fI4bLeojYb4"
      }
    },
    {
      "cell_type": "code",
      "source": [
        "plt.figure(figsize=(7,7))\n",
        "plt.imshow(image.squeeze(), cmap='gray')\n",
        "\n",
        "for i in range(28):\n",
        "    for j in range(28):\n",
        "        pixel = round(image.squeeze()[i][j].item(), 1)\n",
        "        plt.text(i, j, pixel, fontsize=5.5, ha='center', va='center', color='gray')"
      ],
      "metadata": {
        "colab": {
          "base_uri": "https://localhost:8080/",
          "height": 599
        },
        "id": "KR68cTutfDfo",
        "outputId": "4d30b691-a50c-4f00-e66a-e6d55cfd5113"
      },
      "execution_count": 5,
      "outputs": [
        {
          "output_type": "display_data",
          "data": {
            "text/plain": [
              "<Figure size 700x700 with 1 Axes>"
            ],
            "image/png": "[encoded data removed]"
          },
          "metadata": {}
        }
      ]
    },
    {
      "cell_type": "markdown",
      "source": [
        "Define the MLP model"
      ],
      "metadata": {
        "id": "tIlj6wxJodhV"
      }
    },
    {
      "cell_type": "code",
      "source": [
        "class ff_neural_network(nn.Module):\n",
        "    def __init__(self, input_size, hidden_size, output_size):\n",
        "        super(ff_neural_network, self).__init__()\n",
        "        self.fc1 = nn.Linear(input_size, hidden_size)\n",
        "        self.relu = nn.ReLU()\n",
        "        self.fc2 = nn.Linear(hidden_size, output_size)\n",
        "\n",
        "    def forward(self, x):\n",
        "        x = self.fc1(x)\n",
        "        x = self.relu(x)\n",
        "        x = self.fc2(x)\n",
        "\n",
        "        return x\n",
        "\n",
        "# define feedforward neural network architecture\n",
        "input_size = 784\n",
        "hidden_size = 100\n",
        "output_size = 10\n",
        "\n",
        "# Check for GPU availability\n",
        "device = 'cuda' if torch.cuda.is_available() else 'cpu'\n",
        "\n",
        "# create an instance of the neural network\n",
        "net = ff_neural_network(input_size, hidden_size, output_size)\n",
        "net = nn.DataParallel(net)\n",
        "net = net.to(device)\n",
        "\n",
        "# define loss function and optimizer\n",
        "criterion = nn.CrossEntropyLoss() # for classification tasks logarithmic/cross-entropy loss function is mainly used\n",
        "optimizer = optim.SGD(net.parameters(), lr=0.01)"
      ],
      "metadata": {
        "id": "CXEUpMokogZk"
      },
      "execution_count": 6,
      "outputs": []
    },
    {
      "cell_type": "markdown",
      "source": [
        "Train MLP model"
      ],
      "metadata": {
        "id": "ZdnTmfA5tNRK"
      }
    },
    {
      "cell_type": "code",
      "source": [
        "epochs = 10\n",
        "\n",
        "for e in range(epochs):\n",
        "\n",
        "    # forward pass\n",
        "    for i_batch, (image_batch, label_batch) in enumerate(train_loader):\n",
        "\n",
        "        image_batch = image_batch.to(device)\n",
        "        label_batch = label_batch.to(device)\n",
        "\n",
        "        # MNIST images have to be flatten (28x28 array pixel -> 784 vector pixel)\n",
        "        # MLP requires input images as vector of pixels (WHY?)\n",
        "        flatten_image_batch = torch.squeeze(image_batch) # removes singleton (channel) dimension due to grayscale\n",
        "        flatten_image_batch = torch.flatten(image_batch, start_dim=1)\n",
        "\n",
        "        # flatten_image_batch = image_batch.reshape(image_batch.size(0), -1)\n",
        "\n",
        "        if e == 0 and i_batch == 0:\n",
        "            print(f'Batch: {i_batch}')\n",
        "            print(f'Batch dimensions: {image_batch.shape}')\n",
        "            print(f'Number of images per batch: {image_batch.shape[0]}')\n",
        "            print(f'Flatten images shape: {flatten_image_batch.shape}')\n",
        "\n",
        "        output = net(flatten_image_batch)\n",
        "\n",
        "        # compute loss\n",
        "        loss = criterion(output, label_batch)\n",
        "\n",
        "        # backpropagation\n",
        "        optimizer.zero_grad() # nullify gradients\n",
        "        loss.backward() # propagate the loss backwards\n",
        "        optimizer.step() # update weights\n",
        "\n",
        "    print('Epoch [{}/{}], Loss: {:.4f}'.format(e+1, epochs, loss.item()))"
      ],
      "metadata": {
        "id": "fpxY98vXwM-9",
        "colab": {
          "base_uri": "https://localhost:8080/"
        },
        "outputId": "bc0eb105-e01d-4b8d-b4bb-8e50aac09335"
      },
      "execution_count": 7,
      "outputs": [
        {
          "output_type": "stream",
          "name": "stdout",
          "text": [
            "Batch: 0\n",
            "Batch dimensions: torch.Size([64, 1, 28, 28])\n",
            "Number of images per batch: 64\n",
            "Flatten images shape: torch.Size([64, 784])\n",
            "Epoch [1/10], Loss: 0.3317\n",
            "Epoch [2/10], Loss: 0.3125\n",
            "Epoch [3/10], Loss: 0.2100\n",
            "Epoch [4/10], Loss: 0.5715\n",
            "Epoch [5/10], Loss: 0.5436\n",
            "Epoch [6/10], Loss: 0.3293\n",
            "Epoch [7/10], Loss: 0.2323\n",
            "Epoch [8/10], Loss: 0.2221\n",
            "Epoch [9/10], Loss: 0.3136\n",
            "Epoch [10/10], Loss: 0.0642\n"
          ]
        }
      ]
    },
    {
      "cell_type": "markdown",
      "source": [
        "Evaluate MLP model"
      ],
      "metadata": {
        "id": "J1vTQ9zvyjtc"
      }
    },
    {
      "cell_type": "code",
      "source": [
        "correct = 0\n",
        "total = 0\n",
        "\n",
        "print(len(test_loader))\n",
        "for i, (images_batch, labels_batch) in enumerate(test_loader):\n",
        "\n",
        "    # termination condition to get the first 10 items of the \"test_loader\"\n",
        "    if i == 10:\n",
        "        break\n",
        "\n",
        "    flatten_images_batch = torch.squeeze(image_batch)\n",
        "    flatten_image_batch = torch.flatten(image_batch, start_dim=1)\n",
        "\n",
        "    print(f'Batch: {i}')\n",
        "    print(f'Batch dimensions: {image_batch.shape}')\n",
        "    print(f'Label dimensions: {labels_batch.shape}')\n",
        "    print(f'Number of images per batch: {image_batch.shape[0]}')\n",
        "    print(f'Flatten images shape: {flatten_image_batch.shape}')\n",
        "\n",
        "    output = net(flatten_image_batch)\n",
        "\n",
        "    # predicted returns the indexes with the maximum probability (needs further explanation)\n",
        "    _, predicted = torch.max(output.data, 1)\n",
        "\n",
        "    print(labels_batch.shape[0])\n",
        "\n",
        "    total += labels_batch.shape[0]\n",
        "    # correct += (predicted == labels_batch).sum()\n",
        "\n",
        "print('Accuracy of the MLP on the test MNIST dataset', 100*torch.true_divede(correct, total))"
      ],
      "metadata": {
        "id": "bPZQ_1-1ylwa",
        "colab": {
          "base_uri": "https://localhost:8080/",
          "height": 1000
        },
        "outputId": "e6761c86-2224-4fdc-dfbd-5d1ec8f66d06"
      },
      "execution_count": 20,
      "outputs": [
        {
          "output_type": "stream",
          "name": "stdout",
          "text": [
            "157\n",
            "Batch: 0\n",
            "Batch dimensions: torch.Size([32, 1, 28, 28])\n",
            "Label dimensions: torch.Size([64])\n",
            "Number of images per batch: 32\n",
            "Flatten images shape: torch.Size([32, 784])\n",
            "64\n",
            "Batch: 1\n",
            "Batch dimensions: torch.Size([32, 1, 28, 28])\n",
            "Label dimensions: torch.Size([64])\n",
            "Number of images per batch: 32\n",
            "Flatten images shape: torch.Size([32, 784])\n",
            "64\n",
            "Batch: 2\n",
            "Batch dimensions: torch.Size([32, 1, 28, 28])\n",
            "Label dimensions: torch.Size([64])\n",
            "Number of images per batch: 32\n",
            "Flatten images shape: torch.Size([32, 784])\n",
            "64\n",
            "Batch: 3\n",
            "Batch dimensions: torch.Size([32, 1, 28, 28])\n",
            "Label dimensions: torch.Size([64])\n",
            "Number of images per batch: 32\n",
            "Flatten images shape: torch.Size([32, 784])\n",
            "64\n",
            "Batch: 4\n",
            "Batch dimensions: torch.Size([32, 1, 28, 28])\n",
            "Label dimensions: torch.Size([64])\n",
            "Number of images per batch: 32\n",
            "Flatten images shape: torch.Size([32, 784])\n",
            "64\n",
            "Batch: 5\n",
            "Batch dimensions: torch.Size([32, 1, 28, 28])\n",
            "Label dimensions: torch.Size([64])\n",
            "Number of images per batch: 32\n",
            "Flatten images shape: torch.Size([32, 784])\n",
            "64\n",
            "Batch: 6\n",
            "Batch dimensions: torch.Size([32, 1, 28, 28])\n",
            "Label dimensions: torch.Size([64])\n",
            "Number of images per batch: 32\n",
            "Flatten images shape: torch.Size([32, 784])\n",
            "64\n",
            "Batch: 7\n",
            "Batch dimensions: torch.Size([32, 1, 28, 28])\n",
            "Label dimensions: torch.Size([64])\n",
            "Number of images per batch: 32\n",
            "Flatten images shape: torch.Size([32, 784])\n",
            "64\n",
            "Batch: 8\n",
            "Batch dimensions: torch.Size([32, 1, 28, 28])\n",
            "Label dimensions: torch.Size([64])\n",
            "Number of images per batch: 32\n",
            "Flatten images shape: torch.Size([32, 784])\n",
            "64\n",
            "Batch: 9\n",
            "Batch dimensions: torch.Size([32, 1, 28, 28])\n",
            "Label dimensions: torch.Size([64])\n",
            "Number of images per batch: 32\n",
            "Flatten images shape: torch.Size([32, 784])\n",
            "64\n"
          ]
        },
        {
          "output_type": "error",
          "ename": "AttributeError",
          "evalue": "module 'torch' has no attribute 'true_divede'",
          "traceback": [
            "\u001b[0;31m---------------------------------------------------------------------------\u001b[0m",
            "\u001b[0;31mAttributeError\u001b[0m                            Traceback (most recent call last)",
            "\u001b[0;32m<ipython-input-20-a178c2fa5e76>\u001b[0m in \u001b[0;36m<cell line: 30>\u001b[0;34m()\u001b[0m\n\u001b[1;32m     28\u001b[0m     \u001b[0;31m# correct += (predicted == labels_batch).sum()\u001b[0m\u001b[0;34m\u001b[0m\u001b[0;34m\u001b[0m\u001b[0m\n\u001b[1;32m     29\u001b[0m \u001b[0;34m\u001b[0m\u001b[0m\n\u001b[0;32m---> 30\u001b[0;31m \u001b[0mprint\u001b[0m\u001b[0;34m(\u001b[0m\u001b[0;34m'Accuracy of the MLP on the test MNIST dataset'\u001b[0m\u001b[0;34m,\u001b[0m \u001b[0;36m100\u001b[0m\u001b[0;34m*\u001b[0m\u001b[0mtorch\u001b[0m\u001b[0;34m.\u001b[0m\u001b[0mtrue_divede\u001b[0m\u001b[0;34m(\u001b[0m\u001b[0mcorrect\u001b[0m\u001b[0;34m,\u001b[0m \u001b[0mtotal\u001b[0m\u001b[0;34m)\u001b[0m\u001b[0;34m)\u001b[0m\u001b[0;34m\u001b[0m\u001b[0;34m\u001b[0m\u001b[0m\n\u001b[0m",
            "\u001b[0;32m/usr/local/lib/python3.10/dist-packages/torch/__init__.py\u001b[0m in \u001b[0;36m__getattr__\u001b[0;34m(name)\u001b[0m\n\u001b[1;32m   1831\u001b[0m         \u001b[0;32mreturn\u001b[0m \u001b[0mimportlib\u001b[0m\u001b[0;34m.\u001b[0m\u001b[0mimport_module\u001b[0m\u001b[0;34m(\u001b[0m\u001b[0;34mf\".{name}\"\u001b[0m\u001b[0;34m,\u001b[0m \u001b[0m__name__\u001b[0m\u001b[0;34m)\u001b[0m\u001b[0;34m\u001b[0m\u001b[0;34m\u001b[0m\u001b[0m\n\u001b[1;32m   1832\u001b[0m \u001b[0;34m\u001b[0m\u001b[0m\n\u001b[0;32m-> 1833\u001b[0;31m     \u001b[0;32mraise\u001b[0m \u001b[0mAttributeError\u001b[0m\u001b[0;34m(\u001b[0m\u001b[0;34mf\"module '{__name__}' has no attribute '{name}'\"\u001b[0m\u001b[0;34m)\u001b[0m\u001b[0;34m\u001b[0m\u001b[0;34m\u001b[0m\u001b[0m\n\u001b[0m\u001b[1;32m   1834\u001b[0m \u001b[0;34m\u001b[0m\u001b[0m\n\u001b[1;32m   1835\u001b[0m \u001b[0;32mfrom\u001b[0m \u001b[0;34m.\u001b[0m \u001b[0;32mimport\u001b[0m \u001b[0m_logging\u001b[0m\u001b[0;34m\u001b[0m\u001b[0;34m\u001b[0m\u001b[0m\n",
            "\u001b[0;31mAttributeError\u001b[0m: module 'torch' has no attribute 'true_divede'"
          ]
        }
      ]
    },
    {
      "cell_type": "markdown",
      "source": [
        "possible fixes\n",
        "\n",
        "1. add softmax after the output (linear) layer\n",
        "2. check the \"requires_grad()\" of the training \"image_batch\"\n",
        "3. obviously, try a new fnn architecture\n",
        "\n"
      ],
      "metadata": {
        "id": "j8eT4l5gPLHc"
      }
    }
  ]
}