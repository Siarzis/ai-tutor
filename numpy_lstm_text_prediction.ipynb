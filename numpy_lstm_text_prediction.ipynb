{
  "nbformat": 4,
  "nbformat_minor": 0,
  "metadata": {
    "colab": {
      "provenance": [],
      "authorship_tag": "ABX9TyME4Ktk2vMkUJ2h9zjrsreM",
      "include_colab_link": true
    },
    "kernelspec": {
      "name": "python3",
      "display_name": "Python 3"
    },
    "language_info": {
      "name": "python"
    }
  },
  "cells": [
    {
      "cell_type": "markdown",
      "metadata": {
        "id": "view-in-github",
        "colab_type": "text"
      },
      "source": [
        "<a href=\"https://colab.research.google.com/github/Siarzis/ai-tutor/blob/main/numpy_lstm_text_prediction.ipynb\" target=\"_parent\"><img src=\"https://colab.research.google.com/assets/colab-badge.svg\" alt=\"Open In Colab\"/></a>"
      ]
    },
    {
      "cell_type": "markdown",
      "source": [
        "Import libraries"
      ],
      "metadata": {
        "id": "2p96vqoHr57j"
      }
    },
    {
      "cell_type": "code",
      "execution_count": 2,
      "metadata": {
        "id": "v0r7AtR4rvZY"
      },
      "outputs": [],
      "source": [
        "import numpy as np"
      ]
    },
    {
      "cell_type": "markdown",
      "source": [
        "Create a simple text sequence dataset"
      ],
      "metadata": {
        "id": "LE7iUrCrr_mU"
      }
    },
    {
      "cell_type": "code",
      "source": [
        "np.random.seed(42)\n",
        "\n",
        "def generate_dataset(num_sequences=100):\n",
        "\n",
        "    sequences = []\n",
        "\n",
        "    for _ in range (num_sequences):\n",
        "        random_number =  np.random.randint(1, 10)\n",
        "        sample = ['a'] * random_number + ['b'] * random_number +  ['EOS']\n",
        "        sequences.append(sample)\n",
        "\n",
        "    return sequences\n",
        "\n",
        "sequences = generate_dataset()\n",
        "print(sequences[88])"
      ],
      "metadata": {
        "colab": {
          "base_uri": "https://localhost:8080/"
        },
        "id": "QtDSH0h7sEYu",
        "outputId": "4e05f121-6207-49c9-ce88-8976408b4d8c"
      },
      "execution_count": 12,
      "outputs": [
        {
          "output_type": "stream",
          "name": "stdout",
          "text": [
            "['a', 'a', 'a', 'a', 'a', 'a', 'a', 'a', 'b', 'b', 'b', 'b', 'b', 'b', 'b', 'b', 'EOS']\n"
          ]
        }
      ]
    }
  ]
}