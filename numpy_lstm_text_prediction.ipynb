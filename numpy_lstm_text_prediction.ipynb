{
  "nbformat": 4,
  "nbformat_minor": 0,
  "metadata": {
    "colab": {
      "provenance": [],
      "authorship_tag": "ABX9TyO8f7xT0MCCPdHAZ1yDz97J"
    },
    "kernelspec": {
      "name": "python3",
      "display_name": "Python 3"
    },
    "language_info": {
      "name": "python"
    }
  },
  "cells": [
    {
      "cell_type": "markdown",
      "source": [
        "Import libraries"
      ],
      "metadata": {
        "id": "2p96vqoHr57j"
      }
    },
    {
      "cell_type": "code",
      "execution_count": null,
      "metadata": {
        "id": "v0r7AtR4rvZY"
      },
      "outputs": [],
      "source": [
        "import numpy as np"
      ]
    },
    {
      "cell_type": "markdown",
      "source": [
        "Create a simple dataset of text sequences"
      ],
      "metadata": {
        "id": "LE7iUrCrr_mU"
      }
    },
    {
      "cell_type": "code",
      "source": [
        "# @title Default title text\n",
        "np.random.seed(42)\n",
        "\n",
        "def generate_dataset(num_words=100, max_word_size=10):\n",
        "\n",
        "    sequences = []\n",
        "\n",
        "    for _ in range (num_words):\n",
        "\n",
        "        random_number =  np.random.randint(1, max_word_size)\n",
        "        sample = ['s'] * random_number + ['t'] * random_number +  ['EOS']\n",
        "        sequences.append(sample)\n",
        "\n",
        "    return sequences\n",
        "\n",
        "num_words=100\n",
        "max_word_size=10\n",
        "\n",
        "vocabulary = generate_dataset(num_words, max_word_size)\n",
        "print(vocabulary[88])"
      ],
      "metadata": {
        "colab": {
          "base_uri": "https://localhost:8080/"
        },
        "id": "QtDSH0h7sEYu",
        "outputId": "b979b744-2fdd-4b5d-81ab-464567eb590e"
      },
      "execution_count": null,
      "outputs": [
        {
          "output_type": "stream",
          "name": "stdout",
          "text": [
            "[['s', 's', 's', 's', 's', 's', 's', 't', 't', 't', 't', 't', 't', 't', 'EOS'], ['s', 's', 's', 's', 't', 't', 't', 't', 'EOS'], ['s', 's', 's', 's', 's', 's', 's', 's', 't', 't', 't', 't', 't', 't', 't', 't', 'EOS'], ['s', 's', 's', 's', 's', 't', 't', 't', 't', 't', 'EOS'], ['s', 's', 's', 's', 's', 's', 's', 't', 't', 't', 't', 't', 't', 't', 'EOS'], ['s', 's', 's', 't', 't', 't', 'EOS'], ['s', 's', 's', 's', 's', 's', 's', 't', 't', 't', 't', 't', 't', 't', 'EOS'], ['s', 's', 's', 's', 's', 's', 's', 's', 't', 't', 't', 't', 't', 't', 't', 't', 'EOS'], ['s', 's', 's', 's', 's', 't', 't', 't', 't', 't', 'EOS'], ['s', 's', 's', 's', 't', 't', 't', 't', 'EOS'], ['s', 's', 's', 's', 's', 's', 's', 's', 't', 't', 't', 't', 't', 't', 't', 't', 'EOS'], ['s', 's', 's', 's', 's', 's', 's', 's', 't', 't', 't', 't', 't', 't', 't', 't', 'EOS'], ['s', 's', 's', 't', 't', 't', 'EOS'], ['s', 's', 's', 's', 's', 's', 't', 't', 't', 't', 't', 't', 'EOS'], ['s', 's', 's', 's', 's', 't', 't', 't', 't', 't', 'EOS'], ['s', 's', 't', 't', 'EOS'], ['s', 's', 's', 's', 's', 's', 's', 's', 't', 't', 't', 't', 't', 't', 't', 't', 'EOS'], ['s', 's', 's', 's', 's', 's', 't', 't', 't', 't', 't', 't', 'EOS'], ['s', 's', 't', 't', 'EOS'], ['s', 's', 's', 's', 's', 't', 't', 't', 't', 't', 'EOS'], ['s', 't', 'EOS'], ['s', 's', 's', 's', 's', 's', 't', 't', 't', 't', 't', 't', 'EOS'], ['s', 's', 's', 's', 's', 's', 's', 's', 's', 't', 't', 't', 't', 't', 't', 't', 't', 't', 'EOS'], ['s', 't', 'EOS'], ['s', 's', 's', 't', 't', 't', 'EOS'], ['s', 's', 's', 's', 's', 's', 's', 't', 't', 't', 't', 't', 't', 't', 'EOS'], ['s', 's', 's', 's', 't', 't', 't', 't', 'EOS'], ['s', 's', 's', 's', 's', 's', 's', 's', 's', 't', 't', 't', 't', 't', 't', 't', 't', 't', 'EOS'], ['s', 's', 's', 't', 't', 't', 'EOS'], ['s', 's', 's', 's', 's', 't', 't', 't', 't', 't', 'EOS'], ['s', 's', 's', 't', 't', 't', 'EOS'], ['s', 's', 's', 's', 's', 's', 's', 't', 't', 't', 't', 't', 't', 't', 'EOS'], ['s', 's', 's', 's', 's', 't', 't', 't', 't', 't', 'EOS'], ['s', 's', 's', 's', 's', 's', 's', 's', 's', 't', 't', 't', 't', 't', 't', 't', 't', 't', 'EOS'], ['s', 's', 's', 's', 's', 's', 's', 't', 't', 't', 't', 't', 't', 't', 'EOS'], ['s', 's', 't', 't', 'EOS'], ['s', 's', 's', 's', 't', 't', 't', 't', 'EOS'], ['s', 's', 's', 's', 's', 's', 's', 's', 's', 't', 't', 't', 't', 't', 't', 't', 't', 't', 'EOS'], ['s', 's', 't', 't', 'EOS'], ['s', 's', 's', 's', 's', 's', 's', 's', 's', 't', 't', 't', 't', 't', 't', 't', 't', 't', 'EOS'], ['s', 's', 's', 's', 's', 't', 't', 't', 't', 't', 'EOS'], ['s', 's', 't', 't', 'EOS'], ['s', 's', 's', 's', 't', 't', 't', 't', 'EOS'], ['s', 's', 's', 's', 's', 's', 's', 't', 't', 't', 't', 't', 't', 't', 'EOS'], ['s', 's', 's', 's', 's', 's', 's', 's', 't', 't', 't', 't', 't', 't', 't', 't', 'EOS'], ['s', 's', 's', 't', 't', 't', 'EOS'], ['s', 't', 'EOS'], ['s', 's', 's', 's', 't', 't', 't', 't', 'EOS'], ['s', 's', 't', 't', 'EOS'], ['s', 's', 's', 's', 's', 's', 's', 's', 't', 't', 't', 't', 't', 't', 't', 't', 'EOS'], ['s', 's', 's', 's', 't', 't', 't', 't', 'EOS'], ['s', 's', 't', 't', 'EOS'], ['s', 's', 's', 's', 's', 's', 't', 't', 't', 't', 't', 't', 'EOS'], ['s', 's', 's', 's', 's', 's', 't', 't', 't', 't', 't', 't', 'EOS'], ['s', 's', 's', 's', 't', 't', 't', 't', 'EOS'], ['s', 's', 's', 's', 's', 's', 't', 't', 't', 't', 't', 't', 'EOS'], ['s', 's', 't', 't', 'EOS'], ['s', 's', 't', 't', 'EOS'], ['s', 's', 's', 's', 't', 't', 't', 't', 'EOS'], ['s', 's', 's', 's', 's', 's', 's', 's', 't', 't', 't', 't', 't', 't', 't', 't', 'EOS'], ['s', 's', 's', 's', 's', 's', 's', 't', 't', 't', 't', 't', 't', 't', 'EOS'], ['s', 's', 's', 's', 's', 's', 's', 's', 's', 't', 't', 't', 't', 't', 't', 't', 't', 't', 'EOS'], ['s', 's', 's', 's', 's', 's', 's', 's', 't', 't', 't', 't', 't', 't', 't', 't', 'EOS'], ['s', 's', 's', 's', 's', 't', 't', 't', 't', 't', 'EOS'], ['s', 's', 't', 't', 'EOS'], ['s', 's', 's', 's', 's', 't', 't', 't', 't', 't', 'EOS'], ['s', 's', 's', 's', 's', 's', 's', 's', 't', 't', 't', 't', 't', 't', 't', 't', 'EOS'], ['s', 's', 's', 's', 's', 's', 's', 's', 's', 't', 't', 't', 't', 't', 't', 't', 't', 't', 'EOS'], ['s', 's', 's', 's', 's', 's', 's', 's', 's', 't', 't', 't', 't', 't', 't', 't', 't', 't', 'EOS'], ['s', 't', 'EOS'], ['s', 's', 's', 's', 's', 's', 's', 's', 's', 't', 't', 't', 't', 't', 't', 't', 't', 't', 'EOS'], ['s', 's', 's', 's', 's', 's', 's', 't', 't', 't', 't', 't', 't', 't', 'EOS'], ['s', 's', 's', 's', 's', 's', 's', 's', 's', 't', 't', 't', 't', 't', 't', 't', 't', 't', 'EOS'], ['s', 's', 's', 's', 's', 's', 's', 's', 't', 't', 't', 't', 't', 't', 't', 't', 'EOS'], ['s', 't', 'EOS'], ['s', 's', 's', 's', 's', 's', 's', 's', 't', 't', 't', 't', 't', 't', 't', 't', 'EOS'], ['s', 's', 's', 's', 's', 's', 's', 's', 't', 't', 't', 't', 't', 't', 't', 't', 'EOS'], ['s', 's', 's', 't', 't', 't', 'EOS'], ['s', 't', 'EOS'], ['s', 's', 's', 's', 's', 's', 's', 's', 't', 't', 't', 't', 't', 't', 't', 't', 'EOS'], ['s', 's', 's', 't', 't', 't', 'EOS'], ['s', 's', 's', 't', 't', 't', 'EOS'], ['s', 't', 'EOS'], ['s', 's', 's', 's', 's', 't', 't', 't', 't', 't', 'EOS'], ['s', 's', 's', 's', 's', 's', 's', 't', 't', 't', 't', 't', 't', 't', 'EOS'], ['s', 's', 's', 's', 's', 's', 's', 's', 's', 't', 't', 't', 't', 't', 't', 't', 't', 't', 'EOS'], ['s', 's', 's', 's', 's', 's', 's', 't', 't', 't', 't', 't', 't', 't', 'EOS'], ['s', 's', 's', 's', 's', 's', 's', 's', 's', 't', 't', 't', 't', 't', 't', 't', 't', 't', 'EOS'], ['s', 's', 's', 's', 's', 's', 's', 's', 't', 't', 't', 't', 't', 't', 't', 't', 'EOS'], ['s', 's', 't', 't', 'EOS'], ['s', 't', 'EOS'], ['s', 's', 's', 's', 's', 's', 's', 't', 't', 't', 't', 't', 't', 't', 'EOS'], ['s', 's', 's', 's', 's', 's', 's', 't', 't', 't', 't', 't', 't', 't', 'EOS'], ['s', 's', 's', 's', 's', 's', 's', 's', 't', 't', 't', 't', 't', 't', 't', 't', 'EOS'], ['s', 's', 's', 's', 's', 't', 't', 't', 't', 't', 'EOS'], ['s', 's', 's', 't', 't', 't', 'EOS'], ['s', 's', 's', 's', 's', 's', 's', 's', 't', 't', 't', 't', 't', 't', 't', 't', 'EOS'], ['s', 's', 's', 's', 's', 's', 't', 't', 't', 't', 't', 't', 'EOS'], ['s', 's', 's', 't', 't', 't', 'EOS'], ['s', 't', 'EOS']]\n"
          ]
        }
      ]
    },
    {
      "cell_type": "markdown",
      "source": [
        "Perform one-hot encoding on the generated vocabulary"
      ],
      "metadata": {
        "id": "WHjhHgixBqwD"
      }
    },
    {
      "cell_type": "code",
      "source": [
        "def seq_to_dict(vocabulary):\n",
        "\n",
        "    word_to_index = {}\n",
        "    index_to_word = {}\n",
        "\n",
        "    str_vocabulary = [''.join(word) for word in vocabulary]\n",
        "\n",
        "    # remove duplicate words in the dictionary\n",
        "    unique_vocabulary = set(str_vocabulary)\n",
        "    unique_vocabulary = list(unique_vocabulary)\n",
        "\n",
        "    # find the word with the maximum length in the vocabulary\n",
        "    max_word_size = max(unique_vocabulary, key=len)\n",
        "    # compute the maximum word length\n",
        "    max_word_size = int((len(max_word_size) - 3 ) / 2)\n",
        "\n",
        "    # create a diagonal list of lists\n",
        "    encoding = [['0' if i != j else '1' for j in range(max_word_size)] for i in range(max_word_size)]\n",
        "    encoding = [''.join(row) for row in encoding]\n",
        "\n",
        "    for word in unique_vocabulary:\n",
        "\n",
        "        word_length = int((len(word) - 3 ) / 2)\n",
        "        word_to_index[word] = encoding[word_length-1]\n",
        "        index_to_word[encoding[word_length-1]] = word\n",
        "\n",
        "    return word_to_index, index_to_word\n",
        "\n",
        "word_to_index, index_to_word = seq_to_dict(vocabulary)\n",
        "\n",
        "print(word_to_index)\n",
        "print(index_to_word)\n",
        "\n",
        "index_to_word = 1"
      ],
      "metadata": {
        "id": "_87B5ukiBsXi"
      },
      "execution_count": null,
      "outputs": []
    },
    {
      "cell_type": "code",
      "source": [],
      "metadata": {
        "id": "ArXSUFbSXxWS"
      },
      "execution_count": null,
      "outputs": []
    }
  ]
}